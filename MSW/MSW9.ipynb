{
 "cells": [
  {
   "attachments": {},
   "cell_type": "markdown",
   "metadata": {},
   "source": [
    "9. Integrace funkce jedné proměnné\n",
    "\n",
    "Zadání:\n",
    "V oblasti přírodních a sociálních věd je velice důležitým pojmem integrál, který představuje funkci součtů malých změn (počet nakažených covidem za čas, hustota monomerů daného typu při posouvání se v řetízku polymeru, aj.). Integraci lze provádět pro velmi jednoduché funkce prostou Riemannovým součtem, avšak pro složitější funkce je nutné využít pokročilé metody. Vaším úkolem je vybrat si 3 různorodé funkce (polynom, harmonická funkce, logaritmus/exponenciála) a vypočíst určitý integrál na dané funkci od nějakého počátku do nějakého konečného bodu. Porovnejte, jak si každá z metod poradila s vámi vybranou funkcí na základě přesnosti vůči analytickému řešení."
   ]
  },
  {
   "cell_type": "code",
   "execution_count": 2,
   "metadata": {},
   "outputs": [],
   "source": [
    "from scipy import integrate\n",
    "import numpy as np"
   ]
  },
  {
   "cell_type": "code",
   "execution_count": 3,
   "metadata": {},
   "outputs": [
    {
     "name": "stdout",
     "output_type": "stream",
     "text": [
      "Polynom\n",
      "trapezoid:  730.275\n",
      "Simpson:    730.0\n",
      "Romberg:    730.0\n",
      "Gauss:      730.0\n",
      "\n",
      "Harmonická funkce\n",
      "trapezoid:  2.169886846069567\n",
      "Simpson:    2.177168296606548\n",
      "Romberg:    2.177148851628997\n",
      "Gauss:      2.1771488521186293\n",
      "\n",
      "Logaritmická funkce\n",
      "trapezoid:  162.06236264662797\n",
      "Simpson:    162.00055572479852\n",
      "Romberg:    162.0005568144447\n",
      "Gauss:      162.00055719081467\n"
     ]
    }
   ],
   "source": [
    "\n",
    "# Definice funkce pro výpočet plochy pod křivkou metodou trapezoidů\n",
    "def trapezoid(fx, a, b, dx):\n",
    "  x=np.arange(a, b+dx, dx)\n",
    "  y=fx(x)\n",
    "  return (integrate.trapezoid(y,x))\n",
    "\n",
    "# Definice funkce pro výpočet plochy pod křivkou metodou Simpsonova pravidla\n",
    "def simpson(fx, a, b, dx):\n",
    "  x = np.arange(a, b+dx, dx)\n",
    "  y = fx(x)\n",
    "  return(integrate.simpson(y,x))\n",
    "\n",
    "# Definice funkce pro výpočet plochy pod křivkou pomocí Rombergovy metody\n",
    "def romberg(fx, a, b):\n",
    "  return (integrate.romberg(fx, a, b))\n",
    "\n",
    "# Definice funkce pro výpočet plochy pod křivkou pomocí Gaussovy kvadratury\n",
    "def quad(fx, a, b):\n",
    "    return integrate.quadrature(fx, a, b)[0]\n",
    "\n",
    "# Definice funkcí f1, f2, f3\n",
    "def f1(x):\n",
    "    return 4*x**3 + 3*x**2 - 2*x + 1\n",
    "\n",
    "def f2(x):\n",
    "  return 3*np.sin(2*x-1)\n",
    "\n",
    "def f3(x):\n",
    "  return x**3 + np.log(x+1)\n",
    "\n",
    "a = 0\n",
    "b = 5\n",
    "dx = 0.1\n",
    "\n",
    "print(f\"Polynom\\ntrapezoid:  {trapezoid(f1, a, b, dx)}\")\n",
    "print(f\"Simpson:    {simpson(f1, a, b, dx)}\")\n",
    "print(f\"Romberg:    {romberg(f1,a,b)}\")\n",
    "print(f\"Gauss:      {quad(f1,a,b)}\")\n",
    "\n",
    "print(f\"\\nHarmonická funkce\\ntrapezoid:  {trapezoid(f2, a, b, dx)}\")\n",
    "print(f\"Simpson:    {simpson(f2, a, b, dx)}\")\n",
    "print(f\"Romberg:    {romberg(f2,a,b)}\")\n",
    "print(f\"Gauss:      {quad(f2,a,b)}\")\n",
    "\n",
    "print(f\"\\nLogaritmická funkce\\ntrapezoid:  {trapezoid(f3, a, b, dx)}\")\n",
    "print(f\"Simpson:    {simpson(f3, a, b, dx)}\")\n",
    "print(f\"Romberg:    {romberg(f3,a,b)}\")\n",
    "print(f\"Gauss:      {quad(f3,a,b)}\")\n"
   ]
  }
 ],
 "metadata": {
  "kernelspec": {
   "display_name": "Python 3",
   "language": "python",
   "name": "python3"
  },
  "language_info": {
   "codemirror_mode": {
    "name": "ipython",
    "version": 3
   },
   "file_extension": ".py",
   "mimetype": "text/x-python",
   "name": "python",
   "nbconvert_exporter": "python",
   "pygments_lexer": "ipython3",
   "version": "3.11.0"
  },
  "orig_nbformat": 4
 },
 "nbformat": 4,
 "nbformat_minor": 2
}
