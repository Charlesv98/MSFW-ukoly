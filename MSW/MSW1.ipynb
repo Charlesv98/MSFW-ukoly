{
 "cells": [
  {
   "attachments": {},
   "cell_type": "markdown",
   "metadata": {},
   "source": [
    "1. Knihovny a moduly pro matematické výpočty\n",
    "\n",
    "Zadání:\n",
    "V tomto kurzu jste se učili s některými vybranými knihovnami. Některé sloužily pro rychlé vektorové operace, jako numpy, některé mají naprogramovány symbolické manipulace, které lze převést na numerické reprezentace (sympy), některé mají v sobě funkce pro numerickou integraci (scipy). Některé slouží i pro rychlé základní operace s čísly (numba).\n",
    "Vaším úkolem je změřit potřebný čas pro vyřešení nějakého problému (např.: provést skalární součin, vypočítat určitý integrál) pomocí standardního pythonu a pomocí specializované knihovny. Toto měření proveďte alespoň pro 5 různých úloh (ne pouze jiná čísla, ale úplně jiné téma) a minimálně porovnejte rychlost jednoho modulu se standardním pythonem. Ideálně proveďte porovnání ještě s dalším modulem a snažte se, ať je kód ve standardním pythonu napsán efektivně. ​"
   ]
  },
  {
   "cell_type": "code",
   "execution_count": 12,
   "metadata": {},
   "outputs": [],
   "source": [
    "import math\n",
    "import time\n",
    "import numpy as np\n",
    "from scipy.integrate import quad"
   ]
  },
  {
   "cell_type": "code",
   "execution_count": 13,
   "metadata": {},
   "outputs": [
    {
     "name": "stdout",
     "output_type": "stream",
     "text": [
      "Výsledek:  93326215443944152681699238856266700490715968264381621468592963895217599993229915608941463976156518286253697920827223758251185210916864000000000000000000000000\n",
      "Čas:  0.0  sekundy\n"
     ]
    }
   ],
   "source": [
    "## 1)\n",
    "## Standard python\n",
    "## Výpočet faktorialu čísla 100\n",
    "start_time = time.time()\n",
    "\n",
    "result = math.factorial(100)\n",
    "\n",
    "end_time = time.time()\n",
    "elapsed_time = end_time - start_time\n",
    "\n",
    "print(\"Výsledek: \", result)\n",
    "print(\"Čas: \", elapsed_time, \" sekundy\")"
   ]
  },
  {
   "cell_type": "code",
   "execution_count": 14,
   "metadata": {},
   "outputs": [
    {
     "name": "stdout",
     "output_type": "stream",
     "text": [
      "Výsledek:  93326215443944152681699238856266700490715968264381621468592963895217599993229915608941463976156518286253697920827223758251185210916864000000000000000000000000\n",
      "Čas:  0.0010056495666503906  sekundy\n"
     ]
    }
   ],
   "source": [
    "## 1)\n",
    "## Numpy\n",
    "## Výpočet faktorialu čísla 100\n",
    "start_time = time.time()\n",
    "\n",
    "result = np.math.factorial(100)\n",
    "\n",
    "end_time = time.time()\n",
    "elapsed_time = end_time - start_time\n",
    "\n",
    "print(\"Výsledek: \", result)\n",
    "print(\"Čas: \", elapsed_time, \" sekundy\")\n"
   ]
  },
  {
   "cell_type": "code",
   "execution_count": 15,
   "metadata": {},
   "outputs": [
    {
     "name": "stdout",
     "output_type": "stream",
     "text": [
      "Průměr:  500000.5\n",
      "Čas:  0.12701630592346191  sekundy\n"
     ]
    }
   ],
   "source": [
    "## 2)\n",
    "## Standard python\n",
    "## Výpočet průměru listu čísel\n",
    "\n",
    "start_time = time.time()\n",
    "\n",
    "numbers = [i for i in range(1, 1000001)]\n",
    "mean = sum(numbers) / len(numbers)\n",
    "\n",
    "end_time = time.time()\n",
    "elapsed_time = end_time - start_time\n",
    "\n",
    "print(\"Průměr: \", mean)\n",
    "print(\"Čas: \", elapsed_time, \" sekundy\")"
   ]
  },
  {
   "cell_type": "code",
   "execution_count": 16,
   "metadata": {},
   "outputs": [
    {
     "name": "stdout",
     "output_type": "stream",
     "text": [
      "Průměr:  500000.5\n",
      "Čas:  0.0191953182220459  sekundy\n"
     ]
    }
   ],
   "source": [
    "## 2)\n",
    "## Numpy\n",
    "## Výpočet průměru listu čísel\n",
    "\n",
    "start_time = time.time()\n",
    "\n",
    "numbers = np.arange(1, 1000001)\n",
    "mean = np.mean(numbers)\n",
    "\n",
    "end_time = time.time()\n",
    "elapsed_time = end_time - start_time\n",
    "\n",
    "print(\"Průměr: \", mean)\n",
    "print(\"Čas: \", elapsed_time, \" sekundy\")"
   ]
  },
  {
   "cell_type": "code",
   "execution_count": 17,
   "metadata": {},
   "outputs": [
    {
     "name": "stdout",
     "output_type": "stream",
     "text": [
      "Determinant:  23188.56672725627\n",
      "Čas:  0.0010077953338623047  sekundy\n"
     ]
    }
   ],
   "source": [
    "## 3)\n",
    "## Standard python\n",
    "## Výpočet determinantu matice 3x3\n",
    "\n",
    "start_time = time.time()\n",
    "\n",
    "matrix = np.random.rand(50, 50)\n",
    "det = np.linalg.det(matrix)\n",
    "\n",
    "end_time = time.time()\n",
    "elapsed_time = end_time - start_time\n",
    "\n",
    "print(\"Determinant: \", det)\n",
    "print(\"Čas: \", elapsed_time, \" sekundy\")"
   ]
  },
  {
   "cell_type": "code",
   "execution_count": 18,
   "metadata": {},
   "outputs": [
    {
     "name": "stdout",
     "output_type": "stream",
     "text": [
      "Determinant:  853894.5941862755\n",
      "Čas:  0.0010042190551757812  sekundy\n"
     ]
    }
   ],
   "source": [
    "## 3)\n",
    "## Numpy\n",
    "## Výpočet determinantu matice 3x3\n",
    "\n",
    "start_time = time.time()\n",
    "\n",
    "matrix = np.random.rand(50, 50)\n",
    "det = np.linalg.det(matrix)\n",
    "\n",
    "end_time = time.time()\n",
    "elapsed_time = end_time - start_time\n",
    "\n",
    "print(\"Determinant: \", det)\n",
    "print(\"Čas: \", elapsed_time, \" sekundy\")"
   ]
  },
  {
   "cell_type": "code",
   "execution_count": 19,
   "metadata": {},
   "outputs": [
    {
     "name": "stdout",
     "output_type": "stream",
     "text": [
      "Výsledek:  130\n",
      "Čas:  0.0 s\n"
     ]
    }
   ],
   "source": [
    "## 4)\n",
    "## Standard python\n",
    "## Výpočet skalárního součinu\n",
    " \n",
    "start_time = time.time()\n",
    "\n",
    "a = [1, 2, 3, 4, 5]\n",
    "b = [6, 7, 8, 9, 10]\n",
    "\n",
    "result = sum([x * y for x, y in zip(a, b)])\n",
    "\n",
    "end_time = time.time()\n",
    "\n",
    "elapsed_time = end_time - start_time\n",
    "print(\"Výsledek: \", result)\n",
    "print(\"Čas: \", elapsed_time, \"s\")"
   ]
  },
  {
   "cell_type": "code",
   "execution_count": 20,
   "metadata": {},
   "outputs": [
    {
     "name": "stdout",
     "output_type": "stream",
     "text": [
      "Výsledek:  130\n",
      "Čas:  0.0 s\n"
     ]
    }
   ],
   "source": [
    "## 4)\n",
    "## Numpy\n",
    "## Výpočet skalárního součinu\n",
    "\n",
    "start_time = time.time()\n",
    "\n",
    "a = np.array([1, 2, 3, 4, 5])\n",
    "b = np.array([6, 7, 8, 9, 10])\n",
    "\n",
    "result = np.dot(a, b)\n",
    "\n",
    "end_time = time.time()\n",
    "\n",
    "elapsed_time = end_time - start_time\n",
    "print(\"Výsledek: \", result)\n",
    "print(\"Čas: \", elapsed_time, \"s\")"
   ]
  },
  {
   "cell_type": "code",
   "execution_count": 21,
   "metadata": {},
   "outputs": [
    {
     "name": "stdout",
     "output_type": "stream",
     "text": [
      "Výsledek:  0.33328333499999835\n",
      "Čas:  0.008986949920654297 s\n"
     ]
    }
   ],
   "source": [
    "## 5)\n",
    "## Standard python\n",
    "## Výpočet určitého integrálu\n",
    "start_time = time.time()\n",
    "\n",
    "def f(x):\n",
    "    return x**2\n",
    "\n",
    "a = 0\n",
    "b = 1\n",
    "n = 10000\n",
    "h = (b - a) / n\n",
    "result = 0\n",
    "\n",
    "for i in range(n):\n",
    "    x_i = a + i * h\n",
    "    result += f(x_i)    \n",
    "\n",
    "result *= h\n",
    "\n",
    "end_time = time.time()\n",
    "\n",
    "elapsed_time = end_time - start_time\n",
    "print(\"Výsledek: \", result)\n",
    "print(\"Čas: \", elapsed_time, \"s\")"
   ]
  },
  {
   "cell_type": "code",
   "execution_count": 22,
   "metadata": {},
   "outputs": [
    {
     "name": "stdout",
     "output_type": "stream",
     "text": [
      "Výsledek:  0.33333333333333337\n",
      "Čas:  0.0 s\n"
     ]
    }
   ],
   "source": [
    "## 5)\n",
    "## SciPy\n",
    "## Výpočet určitého integrálu\n",
    "\n",
    "start_time = time.time()\n",
    "\n",
    "def f(x):\n",
    "    return x**2\n",
    "\n",
    "result, _ = quad(f, 0, 1)\n",
    "\n",
    "end_time = time.time()\n",
    "\n",
    "elapsed_time = end_time - start_time\n",
    "print(\"Výsledek: \", result)\n",
    "print(\"Čas: \", elapsed_time, \"s\")"
   ]
  }
 ],
 "metadata": {
  "kernelspec": {
   "display_name": "Python 3",
   "language": "python",
   "name": "python3"
  },
  "language_info": {
   "codemirror_mode": {
    "name": "ipython",
    "version": 3
   },
   "file_extension": ".py",
   "mimetype": "text/x-python",
   "name": "python",
   "nbconvert_exporter": "python",
   "pygments_lexer": "ipython3",
   "version": "3.11.0"
  },
  "orig_nbformat": 4
 },
 "nbformat": 4,
 "nbformat_minor": 2
}
