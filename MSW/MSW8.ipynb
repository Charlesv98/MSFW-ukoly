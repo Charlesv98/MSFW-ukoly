{
 "cells": [
  {
   "attachments": {},
   "cell_type": "markdown",
   "metadata": {},
   "source": [
    "8. Derivace funkce jedné proměnné\n",
    "\n",
    "Zadání:\n",
    "Numerická derivace je velice krátké téma. V hodinách jste se dozvěděli o nejvyužívanějších typech numerické derivace (dopředná, zpětná, centrální). Jedno z neřešených témat na hodinách byl problém volby kroku. V praxi je vhodné mít krok dynamicky nastavitelný. Algoritmům tohoto typu se říká derivace s adaptabilním krokem. Cílem tohoto zadání je napsat program, který provede numerickou derivaci s adaptabilním krokem pro vámi vybranou funkci. Proveďte srovnání se statickým krokem a analytickým řešením.\n"
   ]
  },
  {
   "cell_type": "code",
   "execution_count": 1,
   "metadata": {},
   "outputs": [],
   "source": [
    "import math"
   ]
  },
  {
   "cell_type": "code",
   "execution_count": 2,
   "metadata": {},
   "outputs": [
    {
     "name": "stdout",
     "output_type": "stream",
     "text": [
      "Statický krok:  2.0100000000000007\n",
      "Adaptivní krok (dopředná diference):  2.0000781249990496\n",
      "Adaptivní krok (zpětná diference):  1.9999218750015757\n",
      "Adaptivní krok (centrální diference):  1.9999999999999685\n",
      "Analytické řešení:  2\n"
     ]
    }
   ],
   "source": [
    "\n",
    "def f(x):\n",
    "    # Zadejte zde váš vlastní funkci\n",
    "    return x**2\n",
    "\n",
    "def numerical_derivative(f, x, h):\n",
    "    # Dopředná diference\n",
    "    return (f(x + h) - f(x)) / h\n",
    "\n",
    "def backward_derivative(f, x, h):\n",
    "    # Zpětná diference\n",
    "    return (f(x) - f(x - h)) / h\n",
    "\n",
    "def central_derivative(f, x, h):\n",
    "    # Centrální diference\n",
    "    return (f(x + h) - f(x - h)) / (2 * h)\n",
    "\n",
    "def adaptive_derivative(f, x, h, tolerance, method=\"forward\"):\n",
    "    # Počáteční krok\n",
    "    h_initial = h\n",
    "    \n",
    "    # Výpočet derivace s počátečním krokem\n",
    "    if method == \"forward\":\n",
    "        derivative = numerical_derivative(f, x, h)\n",
    "    elif method == \"backward\":\n",
    "        derivative = backward_derivative(f, x, h)\n",
    "    elif method == \"central\":\n",
    "        derivative = central_derivative(f, x, h)\n",
    "    else:\n",
    "        raise ValueError(\"Neplatná metoda diference.\")\n",
    "    \n",
    "    # Výpočet derivace se zmenšujícím se krokem\n",
    "    while True:\n",
    "        h /= 2\n",
    "        if method == \"forward\":\n",
    "            derivative_new = numerical_derivative(f, x, h)\n",
    "        elif method == \"backward\":\n",
    "            derivative_new = backward_derivative(f, x, h)\n",
    "        elif method == \"central\":\n",
    "            derivative_new = central_derivative(f, x, h)\n",
    "        \n",
    "        # Výpočet odchylky\n",
    "        error = abs(derivative_new - derivative)\n",
    "        \n",
    "        # Kontrola tolerance\n",
    "        if error < tolerance:\n",
    "            return derivative_new\n",
    "        \n",
    "        derivative = derivative_new\n",
    "        \n",
    "        # Kontrola limitního případu, aby nedošlo k nekonečnému cyklu\n",
    "        if h < 0.00000001 * h_initial:\n",
    "            return derivative\n",
    "\n",
    "\n",
    "x = 1  # Bod, ve kterém se počítá derivace\n",
    "h_static = 0.01  # Statický krok\n",
    "tolerance = 0.0001  # Tolerance pro adaptivní krok\n",
    "\n",
    "# Výpočet derivace s použitím statického kroku\n",
    "static_derivative = numerical_derivative(f, x, h_static)\n",
    "\n",
    "# Výpočet derivace s použitím adaptivního kroku (dopředná diference)\n",
    "adaptive_derivative_forward = adaptive_derivative(f, x, h_static, tolerance, method=\"forward\")\n",
    "\n",
    "# Výpočet derivace s použitím adaptivního kroku (zpětná diference)\n",
    "adaptive_derivative_backward = adaptive_derivative(f, x, h_static, tolerance, method=\"backward\")\n",
    "\n",
    "# Výpočet derivace s použitím adaptivního kroku (centrální diference)\n",
    "adaptive_derivative_central = adaptive_derivative(f, x, h_static, tolerance, method=\"central\")\n",
    "\n",
    "# Výpočet analytického řešení derivace\n",
    "analytic_derivative = 2 * x\n",
    "\n",
    "# Výpis výsledků\n",
    "print(\"Statický krok: \", static_derivative)\n",
    "print(\"Adaptivní krok (dopředná diference): \", adaptive_derivative_forward)\n",
    "print(\"Adaptivní krok (zpětná diference): \", adaptive_derivative_backward)\n",
    "print(\"Adaptivní krok (centrální diference): \", adaptive_derivative_central)\n",
    "print(\"Analytické řešení: \", analytic_derivative)\n"
   ]
  }
 ],
 "metadata": {
  "kernelspec": {
   "display_name": "Python 3",
   "language": "python",
   "name": "python3"
  },
  "language_info": {
   "codemirror_mode": {
    "name": "ipython",
    "version": 3
   },
   "file_extension": ".py",
   "mimetype": "text/x-python",
   "name": "python",
   "nbconvert_exporter": "python",
   "pygments_lexer": "ipython3",
   "version": "3.11.0"
  },
  "orig_nbformat": 4
 },
 "nbformat": 4,
 "nbformat_minor": 2
}
