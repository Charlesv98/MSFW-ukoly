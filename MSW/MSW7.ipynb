{
 "cells": [
  {
   "attachments": {},
   "cell_type": "markdown",
   "metadata": {},
   "source": [
    "7. Metoda Monte Carlo\n",
    "\n",
    "Zadání:\n",
    "Metoda Monte Carlo představuje rodinu metod a filozofický přístup k modelování jevů, který využívá vzorkování prostoru (například prostor čísel na herní kostce, které mohou padnout) pomocí pseudonáhodného generátoru čísel. Jelikož se jedná spíše o filozofii řešení problému, tak využití je téměř neomezené. Na hodinách jste viděli několik aplikací (optimalizace portfolia aktiv, řešení Monty Hall problému, integrace funkce, aj.). Nalezněte nějaký zajímavý problém, který nebyl na hodině řešen, a získejte o jeho řešení informace pomocí metody Monte Carlo. Můžete využít kódy ze sešitu z hodin, ale kontext úlohy se musí lišit."
   ]
  },
  {
   "attachments": {},
   "cell_type": "markdown",
   "metadata": {},
   "source": [
    "Tento kód simuluje hod mincí a vypočítává pravděpodobnosti hlavy a panny. Pro každý hod mince je generováno náhodné číslo (0 nebo 1), přičemž 0 představuje hlavu a 1 představuje pannu. Počítá se počet hlav a pann, a na základě toho jsou vypočítány pravděpodobnosti.\n",
    "\n",
    "Hodnota num_tosses určuje počet hodů mincí, který lze upravit podle požadovaného počtu simulací."
   ]
  },
  {
   "cell_type": "code",
   "execution_count": 1,
   "metadata": {},
   "outputs": [],
   "source": [
    "import random"
   ]
  },
  {
   "cell_type": "code",
   "execution_count": 2,
   "metadata": {},
   "outputs": [
    {
     "name": "stdout",
     "output_type": "stream",
     "text": [
      "Pravděpodobnost hlavy: 0.500464\n",
      "Pravděpodobnost panny: 0.499536\n"
     ]
    }
   ],
   "source": [
    "def simulate_coin_toss(num_tosses):\n",
    "    heads_count = 0\n",
    "    tails_count = 0\n",
    "\n",
    "    for _ in range(num_tosses):\n",
    "        # Simulujeme hod mincí (0 = orel, 1 = panna)\n",
    "        toss_result = random.randint(0, 1)\n",
    "\n",
    "        if toss_result == 0:\n",
    "            heads_count += 1\n",
    "        else:\n",
    "            tails_count += 1\n",
    "\n",
    "    # Výpočet pravděpodobnosti hlavy a panny\n",
    "    heads_probability = heads_count / num_tosses\n",
    "    tails_probability = tails_count / num_tosses\n",
    "\n",
    "    return heads_probability, tails_probability\n",
    "\n",
    "# Počet hodů mincí\n",
    "num_tosses = 1000000\n",
    "\n",
    "# Simulace hodu mincí a výpočet pravděpodobností\n",
    "heads_probability, tails_probability = simulate_coin_toss(num_tosses)\n",
    "\n",
    "print(\"Pravděpodobnost hlavy:\", heads_probability)\n",
    "print(\"Pravděpodobnost panny:\", tails_probability)\n"
   ]
  }
 ],
 "metadata": {
  "kernelspec": {
   "display_name": "Python 3",
   "language": "python",
   "name": "python3"
  },
  "language_info": {
   "codemirror_mode": {
    "name": "ipython",
    "version": 3
   },
   "file_extension": ".py",
   "mimetype": "text/x-python",
   "name": "python",
   "nbconvert_exporter": "python",
   "pygments_lexer": "ipython3",
   "version": "3.11.0"
  },
  "orig_nbformat": 4
 },
 "nbformat": 4,
 "nbformat_minor": 2
}
